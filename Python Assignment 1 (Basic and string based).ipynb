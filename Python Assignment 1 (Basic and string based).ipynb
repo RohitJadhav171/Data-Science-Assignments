{
 "cells": [
  {
   "cell_type": "markdown",
   "id": "40dc6307",
   "metadata": {},
   "source": [
    "# Assignment 1 \n",
    "## Python Basics Variables\n"
   ]
  },
  {
   "cell_type": "code",
   "execution_count": 3,
   "id": "14354b4e",
   "metadata": {},
   "outputs": [
    {
     "name": "stdout",
     "output_type": "stream",
     "text": [
      "value of X after Swap is =  20\n",
      "value of Y after Swap is =  10\n"
     ]
    }
   ],
   "source": [
    "#Q.1 Declare two variables, `x` and `y`, and assign them integer values. Swap the values of these variables without using any temporary variable. \n",
    "\n",
    "#value declacarations to variable\n",
    "X = 10\n",
    "Y = 20 \n",
    "#Swaping values without sing temp\n",
    "\n",
    "X, Y = Y, X\n",
    "\n",
    "print(\"value of X after Swap is = \",X) #Value of X is 20\n",
    "print(\"value of Y after Swap is = \",Y) #Value of Y is 10\n"
   ]
  },
  {
   "cell_type": "code",
   "execution_count": 5,
   "id": "278aba93",
   "metadata": {},
   "outputs": [
    {
     "name": "stdout",
     "output_type": "stream",
     "text": [
      "Enter length of rectangle : 5\n",
      "Enter width of rectangle : 5\n",
      "Area of rectangle is =  25\n"
     ]
    }
   ],
   "source": [
    "#Q.2 Create a program that calculates the area of a rectangle. Take the length andwidth as inputs from the user and store them in variables. Calculate and display the area.\n",
    "\n",
    "l = int(input(\"Enter length of rectangle : \")) #Taking length of rectangle from user\n",
    "w = int(input(\"Enter width of rectangle : \"))  #Taking Width of rectangle from user\n",
    "\n",
    "a = l * w     #calculating the area of rectangle by formula and assigning it to varialbe 'a'\n",
    "\n",
    "print(\"Area of rectangle is = \",a) #printing the value of area of rectangle "
   ]
  },
  {
   "cell_type": "code",
   "execution_count": 10,
   "id": "4177a201",
   "metadata": {},
   "outputs": [
    {
     "name": "stdout",
     "output_type": "stream",
     "text": [
      "please enter tempreture in celcious : 10\n",
      "10 degree celcious in fahrenheit is :  50.0 Fahrenheit\n"
     ]
    }
   ],
   "source": [
    "#Q.3 Write a Python program that converts temperatures from Celsius to Fahrenheit. Take the temperature in Celsius as input, store it in a variable, convert it to Fahrenheit, and display the result.\n",
    "\n",
    "t = int(input(\"please enter tempreture in celcious : \"))  #Taking tempreture value in celcious from user\n",
    "f = (t * 9/5) + 32            #Converting celcious to fahrenheit by using formula and stored value in 'f'\n",
    "\n",
    "print(f\"{t} degree celcious in fahrenheit is : \",f,\"Fahrenheit\")  #Printing the value of degree to fahrenheit. "
   ]
  },
  {
   "cell_type": "markdown",
   "id": "e2ca9b8d",
   "metadata": {},
   "source": [
    "# String Based Quetions"
   ]
  },
  {
   "cell_type": "code",
   "execution_count": 13,
   "id": "99c86e9f",
   "metadata": {},
   "outputs": [
    {
     "name": "stdout",
     "output_type": "stream",
     "text": [
      "Please enter any string : Rohit Jadhav\n",
      "length of string is :  12\n"
     ]
    }
   ],
   "source": [
    "#Q.1 Write a Python program that takes a string as input and prints the length of the string.\n",
    "\n",
    "a = input(\"Please enter any string : \")  #taking input from user as string\n",
    "print(\"length of string is : \",len(a))    #printing length of string"
   ]
  },
  {
   "cell_type": "code",
   "execution_count": 17,
   "id": "cbb919a5",
   "metadata": {},
   "outputs": [
    {
     "name": "stdout",
     "output_type": "stream",
     "text": [
      "Enter string:I am from Pune\n",
      "Number of vowels are: 5\n"
     ]
    }
   ],
   "source": [
    "#Q.2 Create a program that takes a sentence from the user and counts the number of vowels (a, e, i, o, u) in the string.\n",
    "\n",
    "string = input(\"Enter string:\")  #Taking input from user as string\n",
    "vowels = 0        #vowel varialble has defined with intial value 0\n",
    "\n",
    "#using for loop to count the number of vowels. \n",
    "for i in string:    \n",
    "      if(i=='a' or i=='e' or i=='i' or i=='o' or i=='u' or i=='A' or i=='E' or i=='I' or i=='O' or i=='U'):\n",
    "            vowels=vowels+1\n",
    "print(\"Number of vowels are:\",vowels)     #printing the count of vwels in string\n",
    "\n"
   ]
  },
  {
   "cell_type": "code",
   "execution_count": 21,
   "id": "3dece755",
   "metadata": {},
   "outputs": [
    {
     "name": "stdout",
     "output_type": "stream",
     "text": [
      "dlroW olleH\n"
     ]
    }
   ],
   "source": [
    "#Q.3 Given a string, reverse the order of characters using string slicing and print the reversed string. \n",
    "\n",
    "text = \"Hello World\" [::-1]  #string has been given to it and slicer is used to reverse the string step by step by backward\n",
    "\n",
    "print(text)  #printing the reversed string"
   ]
  },
  {
   "cell_type": "code",
   "execution_count": 23,
   "id": "ebd3af32",
   "metadata": {},
   "outputs": [
    {
     "name": "stdout",
     "output_type": "stream",
     "text": [
      "enter string : abcdcBA\n",
      "The string is a palindrome.\n"
     ]
    }
   ],
   "source": [
    "#Q.4 Write a program that takes a string as input and checks if it is a palindrome (reads the same forwards and backwards). \n",
    "\n",
    "txt = input(\"enter string : \")    #taking input as string\n",
    "\n",
    "txt = txt.casefold()       #make it suitable for caseless comparison\n",
    "\n",
    "rev_txt = reversed(txt)   #reverse the string\n",
    "\n",
    "# check if the string is equal to its reverse\n",
    "if list(txt) == list(rev_txt):\n",
    "   print(\"The string is a palindrome.\")\n",
    "else:\n",
    "   print(\"The string is not a palindrome.\")"
   ]
  },
  {
   "cell_type": "code",
   "execution_count": 29,
   "id": "f1daadbe",
   "metadata": {},
   "outputs": [
    {
     "name": "stdout",
     "output_type": "stream",
     "text": [
      "enter string : hi, I am from pune\n",
      "hi,Iamfrompune\n"
     ]
    }
   ],
   "source": [
    "#Q.5 Create a program that takes a string as input and removes all the spaces from it. Print the modified string without spaces.\n",
    "def remove(text):                    #Defined function to remove space from string\n",
    "    return text.replace(\" \", \"\")\n",
    " \n",
    "text = input(\"enter string : \")         #taking input from user\n",
    "print(remove(text))                     #calling function remove and printing the output."
   ]
  },
  {
   "cell_type": "code",
   "execution_count": null,
   "id": "4b51d2be",
   "metadata": {},
   "outputs": [],
   "source": []
  }
 ],
 "metadata": {
  "kernelspec": {
   "display_name": "Python 3",
   "language": "python",
   "name": "python3"
  },
  "language_info": {
   "codemirror_mode": {
    "name": "ipython",
    "version": 3
   },
   "file_extension": ".py",
   "mimetype": "text/x-python",
   "name": "python",
   "nbconvert_exporter": "python",
   "pygments_lexer": "ipython3",
   "version": "3.8.8"
  }
 },
 "nbformat": 4,
 "nbformat_minor": 5
}
